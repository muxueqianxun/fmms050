{
 "cells": [
  {
   "cell_type": "code",
   "execution_count": null,
   "id": "b415ca8c-c117-4a6d-a231-db6daf6e6b78",
   "metadata": {},
   "outputs": [],
   "source": []
  }
 ],
 "metadata": {
  "kernelspec": {
   "display_name": "Python 3",
   "language": "python",
   "name": "python3"
  },
  "language_info": {
   "name": ""
  }
 },
 "nbformat": 4,
 "nbformat_minor": 5
}